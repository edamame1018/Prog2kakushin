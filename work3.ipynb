{
  "nbformat": 4,
  "nbformat_minor": 0,
  "metadata": {
    "colab": {
      "provenance": []
    },
    "kernelspec": {
      "name": "python3",
      "display_name": "Python 3"
    },
    "language_info": {
      "name": "python"
    }
  },
  "cells": [
    {
      "cell_type": "markdown",
      "source": [
        "画像処理を使ったプログラムの作成"
      ],
      "metadata": {
        "id": "9FnEvCpVBSIn"
      }
    },
    {
      "cell_type": "code",
      "execution_count": null,
      "metadata": {
        "id": "du1zKhOnBD2v"
      },
      "outputs": [],
      "source": []
    }
  ]
}