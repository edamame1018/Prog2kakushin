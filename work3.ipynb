{
  "nbformat": 4,
  "nbformat_minor": 0,
  "metadata": {
    "colab": {
      "provenance": [],
      "authorship_tag": "ABX9TyPKCgIi/a5SXLa5uZS5cMTE",
      "include_colab_link": true
    },
    "kernelspec": {
      "name": "python3",
      "display_name": "Python 3"
    },
    "language_info": {
      "name": "python"
    }
  },
  "cells": [
    {
      "cell_type": "markdown",
      "metadata": {
        "id": "view-in-github",
        "colab_type": "text"
      },
      "source": [
        "<a href=\"https://colab.research.google.com/github/edamame1018/Prog2kakushin/blob/main/work3.ipynb\" target=\"_parent\"><img src=\"https://colab.research.google.com/assets/colab-badge.svg\" alt=\"Open In Colab\"/></a>"
      ]
    },
    {
      "cell_type": "markdown",
      "source": [
        "画像処理を使ったプログラムの作成"
      ],
      "metadata": {
        "id": "9FnEvCpVBSIn"
      }
    },
    {
      "cell_type": "code",
      "source": [
        "import numpy as np\n",
        "import cv2, sys\n",
        "from google.colab.patches import cv2_imshow\n",
        "\n",
        "img = np.zeros( (400, 400, 3), np.uint8 )\n",
        "img.fill( 255 )\n",
        "cv2.circle(img, (200,190), 200, color=(0, 0, 0), thickness=-1)\n",
        "cv2.circle(img, (200,200), 200, color=(255, 255, 255), thickness=-1)#顔面\n",
        "cv2.circle(img, (200,200), 200, color=(0, 0, 0),)\n",
        "cv2.ellipse(img, ((200,210), (60,100),0), color=(175, 210, 255),thickness=-1)#鼻\n",
        "cv2.ellipse(img, ((200,210), (60,100),0), color=(0, 0, 0))\n",
        "cv2.ellipse(img, ((120,140), (100,60),350), color=(255, 255, 255),thickness=-1)#右目\n",
        "cv2.ellipse(img, ((120,140), (100,60),350), color=(0, 0, 0))\n",
        "cv2.ellipse(img, ((120,140), (30,60),350), color=(0, 0, 0),thickness=-1)#右黒目\n",
        "cv2.ellipse(img, ((120,80), (40,30),350), color=(0, 0, 0),thickness=-1)#右眉\n",
        "cv2.circle(img, (90,220), 40, color=(109, 114, 255), thickness=-1)#右頬\n",
        "cv2.ellipse(img, ((280,140), (100,60),10), color=(255, 255, 255),thickness=-1)#左目\n",
        "cv2.ellipse(img, ((280,140), (100,60),10), color=(0, 0, 0))\n",
        "cv2.ellipse(img, ((280,140), (30,60),10), color=(0, 0, 0),thickness=-1)#左黒目\n",
        "cv2.ellipse(img, ((280,80), (40,30),10), color=(0, 0, 0),thickness=-1)#左眉\n",
        "cv2.circle(img, (310,220), 40, color=(109, 114, 255), thickness=-1)#左頬\n",
        "cv2.ellipse(img, ((200,300), (120,50),0), color=(109, 114, 255),thickness=-1)#口\n",
        "cv2.ellipse(img, ((200,300), (120,50),0), color=(0, 0, 0))\n",
        "cv2.line(img, (140,300), (260,300), color=(0, 0, 0))\n",
        "cv2_imshow(img)"
      ],
      "metadata": {
        "id": "S3sZV2Rz9l7x"
      },
      "execution_count": null,
      "outputs": []
    },
    {
      "cell_type": "markdown",
      "source": [
        "福笑いができるプログラム"
      ],
      "metadata": {
        "id": "kkIY8PlnXBrC"
      }
    },
    {
      "cell_type": "code",
      "execution_count": 1,
      "metadata": {
        "id": "du1zKhOnBD2v",
        "outputId": "eb4d1957-5739-4481-84cb-cbc5aa443123",
        "colab": {
          "base_uri": "https://localhost:8080/",
          "height": 1000
        }
      },
      "outputs": [
        {
          "output_type": "stream",
          "name": "stdout",
          "text": [
            "＊福笑いチャレンジ＊\n"
          ]
        },
        {
          "output_type": "display_data",
          "data": {
            "text/plain": [
              "<PIL.Image.Image image mode=RGB size=400x400>"
            ],
            "image/png": "[encoded data removed]"
          },
          "metadata": {}
        },
        {
          "name": "stdout",
          "output_type": "stream",
          "text": [
            "＊福笑いチャレンジ＊\n",
            "顔は400×400の大きさだよ\n",
            "顔のパーツ数は最大8だよ\n",
            "～ゲームモード～\n",
            "1:簡単・2パーツ(両目)\n",
            "2:普通・4パーツ(両目、鼻、口)\n",
            "3:難しい・6パーツ(両目、鼻、口、両眉)\n",
            "ゲームモードは？(数字を入力してね)：1\n",
            "これだと思う数字を入れてね\n",
            "左目の位置は？\n",
            "左から:280\n",
            "上から:140\n",
            "右目の位置は？\n",
            "左から:120\n",
            "上から:140\n"
          ]
        },
        {
          "output_type": "display_data",
          "data": {
            "text/plain": [
              "<PIL.Image.Image image mode=RGB size=400x400>"
            ],
            "image/png": "[encoded data removed]"
          },
          "metadata": {}
        },
        {
          "output_type": "stream",
          "name": "stdout",
          "text": [
            "うまくできたかな？\n"
          ]
        }
      ],
      "source": [
        "import numpy as np\n",
        "import cv2, sys\n",
        "from google.colab.patches import cv2_imshow\n",
        "print('＊福笑いチャレンジ＊')\n",
        "# 顔の土台作り\n",
        "img = np.zeros( (400, 400, 3), np.uint8 )\n",
        "img.fill( 255 )\n",
        "cv2.circle(img, (200,190), 200, color=(0, 0, 0), thickness=-1)\n",
        "cv2.circle(img, (200,200), 200, color=(255, 255, 255), thickness=-1)#顔面\n",
        "cv2.circle(img, (200,200), 200, color=(0, 0, 0),)\n",
        "cv2.circle(img, (90,220), 40, color=(109, 114, 255), thickness=-1)#右頬\n",
        "cv2.circle(img, (310,220), 40, color=(109, 114, 255), thickness=-1)#左頬\n",
        "cv2_imshow(img)\n",
        "#　ゲーム説明→ゲームモード選択\n",
        "print('＊福笑いチャレンジ＊')\n",
        "print('顔は400×400の大きさだよ')\n",
        "print('顔のパーツ数は最大6だよ')\n",
        "print('～ゲームモード～')\n",
        "print('1:簡単・2パーツ(両目)')\n",
        "print('2:普通・4パーツ(両目、鼻、口)')\n",
        "print('3:難しい・6パーツ(両目、鼻、口、両眉)')\n",
        "q=int(input('ゲームモードは？(数字を入力してね)：'))\n",
        "print('これだと思う数字を入れてね')\n",
        "#　顔のパーツの座標の定義\n",
        "a1=200\n",
        "a2=210\n",
        "b1=120\n",
        "b2=140\n",
        "b3=10\n",
        "c1=280\n",
        "c2=140\n",
        "c3=10\n",
        "d1=120\n",
        "d2=80\n",
        "d3=10\n",
        "e1=280\n",
        "e2=80\n",
        "e3=10\n",
        "f1=200\n",
        "f2=300\n",
        "# 座標を入力してもらう\n",
        "if q==2:\n",
        "  print('鼻の位置は？')\n",
        "  a1=int(input('左から:'))\n",
        "  a2=int(input('上から:'))\n",
        "print('左目の位置は？')\n",
        "b1=int(input('左から:'))\n",
        "b2=int(input('上から:'))\n",
        "if q==3:\n",
        "  print('左目は何度傾かせる？')\n",
        "  b3=int(input('左に○度:'))\n",
        "print('右目の位置は？')\n",
        "c1=int(input('左から:'))\n",
        "c2=int(input('上から:'))\n",
        "if q==3:\n",
        "  print('右目は何度傾かせる？')\n",
        "  c3=int(input('右に○度:'))\n",
        "  print('左眉の位置は？')\n",
        "  d1=int(input('左から:'))\n",
        "  d2=int(input('上から:'))\n",
        "  print('左眉は何度傾かせる？')\n",
        "  d3=int(input('左に:'))\n",
        "  print('右眉の位置は？')\n",
        "  e1=int(input('左から:'))\n",
        "  e2=int(input('上から:'))\n",
        "  print('右眉は何度傾かせる？')\n",
        "  e3=int(input('右に:'))\n",
        "if q==2:\n",
        "  print('口の位置は？')\n",
        "  f1=int(input('左から:'))\n",
        "  f2=int(input('上から:'))\n",
        "# 座標に基づいた顔パーツの配置→顔の出力\n",
        "cv2.ellipse(img, ((a1,a2), (60,100),0), color=(175, 210, 255),thickness=-1)#鼻\n",
        "cv2.ellipse(img, ((a1,a2), (60,100),0), color=(0, 0, 0))\n",
        "cv2.ellipse(img, ((b1,b2), (100,60),(360-b3)), color=(255, 255, 255),thickness=-1)#左目\n",
        "cv2.ellipse(img, ((b1,b2), (100,60),(360-b3)), color=(0, 0, 0))\n",
        "cv2.ellipse(img, ((b1,b2), (30,60),(360-b3)), color=(0, 0, 0),thickness=-1)#左黒目\n",
        "cv2.ellipse(img, ((c1,c2), (100,60),c3), color=(255, 255, 255),thickness=-1)#右目\n",
        "cv2.ellipse(img, ((c1,c2), (100,60),c3), color=(0, 0, 0))\n",
        "cv2.ellipse(img, ((c1,c2), (30,60),c3), color=(0, 0, 0),thickness=-1)#右黒目\n",
        "cv2.ellipse(img, ((d1,d2), (40,30),(360-d3)), color=(0, 0, 0),thickness=-1)#左眉\n",
        "cv2.ellipse(img, ((e1,e2), (40,30),e3), color=(0, 0, 0),thickness=-1)#右眉\n",
        "cv2.ellipse(img, ((f1,f2), (120,50),0), color=(109, 114, 255),thickness=-1)#口\n",
        "cv2.ellipse(img, ((f1,f2), (120,50),0), color=(0, 0, 0))\n",
        "cv2.line(img, ((f1-60),f2), ((f1+60),f2), color=(0, 0, 0))\n",
        "cv2_imshow(img)\n",
        "print('うまくできたかな？')"
      ]
    },
    {
      "cell_type": "markdown",
      "source": [
        "Gifをつくるプログラム"
      ],
      "metadata": {
        "id": "jz-J3eGhW65i"
      }
    },
    {
      "cell_type": "code",
      "source": [
        "from PIL import Image\n",
        "pictures=[]\n",
        "for i in range(14):\n",
        "    pic_name='Kirby' +str(i+1)+ '.jpg'\n",
        "    img = Image.open(pic_name)\n",
        "    pictures.append(img)\n",
        "pictures[0].save('anime.gif',save_all=True, append_images=pictures[1:],\n",
        "optimize=True, duration=100, loop=1)"
      ],
      "metadata": {
        "id": "CurBHmmeJtrO"
      },
      "execution_count": null,
      "outputs": []
    },
    {
      "cell_type": "markdown",
      "source": [
        "https://www.higashisalary.com/entry/python-make-gif"
      ],
      "metadata": {
        "id": "QXKKCS_TW3yE"
      }
    },
    {
      "cell_type": "code",
      "source": [
        "import numpy as np\n",
        "import cv2, sys\n",
        "from google.colab.patches import cv2_imshow\n",
        "\n",
        "img = np.zeros( (400, 400, 3), np.uint8 )\n",
        "img.fill( 255 )\n",
        "cv2.ellipse(img, ((180,340), (200,100),0), color=(93, 106, 140), thickness=-1)\n",
        "cv2.ellipse(img, ((190,340), (130,80),0), color=(71, 84, 120), thickness=-1)\n",
        "cv2.ellipse(img, ((140,160), (80,75),30), color=(208, 168, 255), thickness=-1)#右手\n",
        "cv2.ellipse(img, ((165,170), (80,75),30), color=(190, 138, 255), thickness=-1)\n",
        "cv2.ellipse(img, ((220,310), (100,80),130), color=(75, 40, 230), thickness=-1)#足\n",
        "cv2.circle(img, (230,200), 100, color=(208, 168, 255), thickness=-1)#胴体\n",
        "cv2.circle(img, (250,220), 90, color=(190, 138, 255), thickness=-1)\n",
        "cv2.circle(img, (230,200), 90, color=(208, 168, 255), thickness=-1)\n",
        "cv2.ellipse(img, ((330,220), (80,75),30), color=(208, 168, 255), thickness=-1)#左手\n",
        "cv2.ellipse(img, ((170,195), (30,10),0), color=(122, 77, 255), thickness=-1)#ほっぺ\n",
        "cv2.ellipse(img, ((260,195), (30,10),0), color=(122, 77, 255), thickness=-1)\n",
        "cv2.ellipse(img, ((190,170), (20,45),0), color=(161, 83, 24), thickness=-1)#目\n",
        "cv2.ellipse(img, ((240,170), (20,45),0), color=(161, 83, 24), thickness=-1)\n",
        "cv2.ellipse(img, ((190,175), (17,22),0), color=(200, 110, 45), thickness=-1)#下ハイライト\n",
        "cv2.ellipse(img, ((240,175), (17,22),0), color=(200, 110, 45), thickness=-1)\n",
        "cv2.ellipse(img, ((190,168), (17,22),0), color=(161, 83, 24), thickness=-1)\n",
        "cv2.ellipse(img, ((240,168), (17,22),0), color=(161, 83, 24), thickness=-1)\n",
        "cv2.ellipse(img, ((190,164), (14,20),0), color=(255, 255, 255), thickness=-1)#上ハイライト\n",
        "cv2.ellipse(img, ((240,164), (14,20),0), color=(255, 255, 255), thickness=-1)\n",
        "cv2.ellipse(img, ((210,190), (10,18),0), color=(95, 59, 255), thickness=-1)#口\n",
        "cv2.ellipse(img, ((211,192), (7,14),0), color=(145, 120, 255), thickness=-1)\n",
        "cv2.ellipse(img, ((300,265), (100,80),150), color=(190, 138, 255), thickness=-1)#足\n",
        "cv2.ellipse(img, ((310,270), (100,80),150), color=(95, 59, 255), thickness=-1)\n",
        "cv2.imwrite('Kirby8.jpg', img)\n",
        "cv2.imwrite('Kirby12.jpg', img)\n",
        "cv2_imshow(img)"
      ],
      "metadata": {
        "id": "aqu6eLEbU-nE",
        "outputId": "bfdc7c73-52f6-4581-9bdf-0a7f24d58418",
        "colab": {
          "base_uri": "https://localhost:8080/",
          "height": 417
        }
      },
      "execution_count": null,
      "outputs": [
        {
          "output_type": "display_data",
          "data": {
            "text/plain": [
              "<PIL.Image.Image image mode=RGB size=400x400>"
            ],
            "image/png": "[encoded data removed]"
          },
          "metadata": {}
        }
      ]
    },
    {
      "cell_type": "code",
      "source": [
        "import numpy as np\n",
        "import cv2, sys\n",
        "from google.colab.patches import cv2_imshow\n",
        "\n",
        "img = np.zeros( (400, 400, 3), np.uint8 )\n",
        "img.fill( 255 )\n",
        "cv2.ellipse(img, ((180,340), (200,100),0), color=(93, 106, 140), thickness=-1)\n",
        "cv2.ellipse(img, ((190,340), (130,80),0), color=(71, 84, 120), thickness=-1)\n",
        "cv2.ellipse(img, ((140,150), (80,75),30), color=(208, 168, 255), thickness=-1)#右手\n",
        "cv2.ellipse(img, ((170,165), (80,75),30), color=(190, 138, 255), thickness=-1)\n",
        "cv2.ellipse(img, ((220,310), (100,80),130), color=(75, 40, 230), thickness=-1)#足\n",
        "cv2.circle(img, (230,200), 100, color=(208, 168, 255), thickness=-1)#胴体\n",
        "cv2.circle(img, (250,220), 90, color=(190, 138, 255), thickness=-1)\n",
        "cv2.circle(img, (230,200), 90, color=(208, 168, 255), thickness=-1)\n",
        "cv2.ellipse(img, ((330,220), (80,75),30), color=(208, 168, 255), thickness=-1)#左手\n",
        "cv2.ellipse(img, ((170,195), (30,10),0), color=(122, 77, 255), thickness=-1)#ほっぺ\n",
        "cv2.ellipse(img, ((260,195), (30,10),0), color=(122, 77, 255), thickness=-1)\n",
        "cv2.ellipse(img, ((190,170), (20,45),0), color=(161, 83, 24), thickness=-1)#目\n",
        "cv2.ellipse(img, ((240,170), (20,45),0), color=(161, 83, 24), thickness=-1)\n",
        "cv2.ellipse(img, ((190,175), (17,22),0), color=(200, 110, 45), thickness=-1)#下ハイライト\n",
        "cv2.ellipse(img, ((240,175), (17,22),0), color=(200, 110, 45), thickness=-1)\n",
        "cv2.ellipse(img, ((190,168), (17,22),0), color=(161, 83, 24), thickness=-1)\n",
        "cv2.ellipse(img, ((240,168), (17,22),0), color=(161, 83, 24), thickness=-1)\n",
        "cv2.ellipse(img, ((190,164), (14,20),0), color=(255, 255, 255), thickness=-1)#上ハイライト\n",
        "cv2.ellipse(img, ((240,164), (14,20),0), color=(255, 255, 255), thickness=-1)\n",
        "cv2.ellipse(img, ((210,190), (10,18),0), color=(95, 59, 255), thickness=-1)#口\n",
        "cv2.ellipse(img, ((211,192), (7,14),0), color=(145, 120, 255), thickness=-1)\n",
        "cv2.ellipse(img, ((300,265), (100,80),150), color=(190, 138, 255), thickness=-1)#足\n",
        "cv2.ellipse(img, ((310,270), (100,80),150), color=(95, 59, 255), thickness=-1)\n",
        "cv2.imwrite('Kirby7.jpg', img)\n",
        "cv2.imwrite('Kirby9.jpg', img)\n",
        "cv2.imwrite('Kirby11.jpg', img)\n",
        "cv2.imwrite('Kirby13.jpg', img)\n",
        "cv2_imshow(img)"
      ],
      "metadata": {
        "id": "KhYkiVpOUiBe",
        "outputId": "cd8c7639-799b-4a5e-846f-d6b755418bc4",
        "colab": {
          "base_uri": "https://localhost:8080/",
          "height": 417
        }
      },
      "execution_count": null,
      "outputs": [
        {
          "output_type": "display_data",
          "data": {
            "text/plain": [
              "<PIL.Image.Image image mode=RGB size=400x400>"
            ],
            "image/png": "[encoded data removed]"
          },
          "metadata": {}
        }
      ]
    },
    {
      "cell_type": "code",
      "source": [
        "import numpy as np\n",
        "import cv2, sys\n",
        "from google.colab.patches import cv2_imshow\n",
        "\n",
        "img = np.zeros( (400, 400, 3), np.uint8 )\n",
        "img.fill( 255 )\n",
        "cv2.ellipse(img, ((180,340), (200,100),0), color=(93, 106, 140), thickness=-1)\n",
        "cv2.ellipse(img, ((190,340), (130,80),0), color=(71, 84, 120), thickness=-1)\n",
        "cv2.ellipse(img, ((140,140), (80,75),30), color=(208, 168, 255), thickness=-1)#右手\n",
        "cv2.ellipse(img, ((170,160), (80,75),30), color=(190, 138, 255), thickness=-1)\n",
        "cv2.ellipse(img, ((220,310), (100,80),130), color=(75, 40, 230), thickness=-1)#足\n",
        "cv2.circle(img, (230,200), 100, color=(208, 168, 255), thickness=-1)#胴体\n",
        "cv2.circle(img, (250,220), 90, color=(190, 138, 255), thickness=-1)\n",
        "cv2.circle(img, (230,200), 90, color=(208, 168, 255), thickness=-1)\n",
        "cv2.ellipse(img, ((330,220), (80,75),30), color=(208, 168, 255), thickness=-1)#左手\n",
        "cv2.ellipse(img, ((170,195), (30,10),0), color=(122, 77, 255), thickness=-1)#ほっぺ\n",
        "cv2.ellipse(img, ((260,195), (30,10),0), color=(122, 77, 255), thickness=-1)\n",
        "cv2.ellipse(img, ((190,170), (20,45),0), color=(161, 83, 24), thickness=-1)#目\n",
        "cv2.ellipse(img, ((240,170), (20,45),0), color=(161, 83, 24), thickness=-1)\n",
        "cv2.ellipse(img, ((190,175), (17,22),0), color=(200, 110, 45), thickness=-1)#下ハイライト\n",
        "cv2.ellipse(img, ((240,175), (17,22),0), color=(200, 110, 45), thickness=-1)\n",
        "cv2.ellipse(img, ((190,168), (17,22),0), color=(161, 83, 24), thickness=-1)\n",
        "cv2.ellipse(img, ((240,168), (17,22),0), color=(161, 83, 24), thickness=-1)\n",
        "cv2.ellipse(img, ((190,164), (14,20),0), color=(255, 255, 255), thickness=-1)#上ハイライト\n",
        "cv2.ellipse(img, ((240,164), (14,20),0), color=(255, 255, 255), thickness=-1)\n",
        "cv2.ellipse(img, ((210,190), (10,18),0), color=(95, 59, 255), thickness=-1)#口\n",
        "cv2.ellipse(img, ((211,192), (7,14),0), color=(145, 120, 255), thickness=-1)\n",
        "cv2.ellipse(img, ((300,265), (100,80),150), color=(190, 138, 255), thickness=-1)#足\n",
        "cv2.ellipse(img, ((310,270), (100,80),150), color=(95, 59, 255), thickness=-1)\n",
        "cv2.imwrite('Kirby6.jpg', img)\n",
        "cv2.imwrite('Kirby10.jpg', img)\n",
        "cv2.imwrite('Kirby14.jpg', img)\n",
        "cv2_imshow(img)"
      ],
      "metadata": {
        "id": "b037EsL3NGN2",
        "outputId": "265c9451-8a7c-41f1-b1ae-573a4f0a4ca0",
        "colab": {
          "base_uri": "https://localhost:8080/",
          "height": 417
        }
      },
      "execution_count": null,
      "outputs": [
        {
          "output_type": "display_data",
          "data": {
            "text/plain": [
              "<PIL.Image.Image image mode=RGB size=400x400>"
            ],
            "image/png": "[encoded data removed]"
          },
          "metadata": {}
        }
      ]
    },
    {
      "cell_type": "code",
      "source": [
        "import numpy as np\n",
        "import cv2, sys\n",
        "from google.colab.patches import cv2_imshow\n",
        "\n",
        "img = np.zeros( (400, 400, 3), np.uint8 )\n",
        "img.fill( 255 )\n",
        "cv2.ellipse(img, ((180,340), (200,100),0), color=(93, 106, 140), thickness=-1)\n",
        "cv2.ellipse(img, ((190,340), (130,80),0), color=(71, 84, 120), thickness=-1)\n",
        "cv2.ellipse(img, ((140,180), (80,75),30), color=(208, 168, 255), thickness=-1)#右手\n",
        "cv2.ellipse(img, ((165,190), (80,75),30), color=(190, 138, 255), thickness=-1)\n",
        "cv2.ellipse(img, ((220,310), (100,80),130), color=(75, 40, 230), thickness=-1)#足\n",
        "cv2.circle(img, (230,210), 100, color=(208, 168, 255), thickness=-1)#胴体\n",
        "cv2.circle(img, (250,225), 90, color=(190, 138, 255), thickness=-1)\n",
        "cv2.circle(img, (230,210), 90, color=(208, 168, 255), thickness=-1)\n",
        "cv2.ellipse(img, ((330,220), (80,75),30), color=(208, 168, 255), thickness=-1)#左手\n",
        "cv2.ellipse(img, ((170,215), (30,10),0), color=(122, 77, 255), thickness=-1)#ほっぺ\n",
        "cv2.ellipse(img, ((260,215), (30,10),0), color=(122, 77, 255), thickness=-1)\n",
        "cv2.ellipse(img, ((190,190), (20,45),0), color=(161, 83, 24), thickness=-1)#目\n",
        "cv2.ellipse(img, ((240,190), (20,45),0), color=(161, 83, 24), thickness=-1)\n",
        "cv2.ellipse(img, ((190,195), (17,22),0), color=(200, 110, 45), thickness=-1)#下ハイライト\n",
        "cv2.ellipse(img, ((240,195), (17,22),0), color=(200, 110, 45), thickness=-1)\n",
        "cv2.ellipse(img, ((190,188), (17,22),0), color=(161, 83, 24), thickness=-1)\n",
        "cv2.ellipse(img, ((240,188), (17,22),0), color=(161, 83, 24), thickness=-1)\n",
        "cv2.ellipse(img, ((190,184), (14,20),0), color=(255, 255, 255), thickness=-1)#上ハイライト\n",
        "cv2.ellipse(img, ((240,184), (14,20),0), color=(255, 255, 255), thickness=-1)\n",
        "cv2.ellipse(img, ((210,210), (10,18),0), color=(95, 59, 255), thickness=-1)#口\n",
        "cv2.ellipse(img, ((211,212), (7,14),0), color=(145, 120, 255), thickness=-1)\n",
        "cv2.ellipse(img, ((305,285), (100,80),160), color=(190, 138, 255), thickness=-1)#足\n",
        "cv2.ellipse(img, ((310,290), (100,80),160), color=(95, 59, 255), thickness=-1)\n",
        "cv2.imwrite('Kirby5.jpg', img)\n",
        "cv2_imshow(img)"
      ],
      "metadata": {
        "id": "w5yAdmb9LiCy",
        "outputId": "008f6565-f2f7-42bc-9580-776b1fa0ff68",
        "colab": {
          "base_uri": "https://localhost:8080/",
          "height": 417
        }
      },
      "execution_count": null,
      "outputs": [
        {
          "output_type": "display_data",
          "data": {
            "text/plain": [
              "<PIL.Image.Image image mode=RGB size=400x400>"
            ],
            "image/png": "[encoded data removed]"
          },
          "metadata": {}
        }
      ]
    },
    {
      "cell_type": "code",
      "source": [
        "import numpy as np\n",
        "import cv2, sys\n",
        "from google.colab.patches import cv2_imshow\n",
        "\n",
        "img = np.zeros( (400, 400, 3), np.uint8 )\n",
        "img.fill( 255 )\n",
        "cv2.ellipse(img, ((180,340), (200,100),0), color=(93, 106, 140), thickness=-1)\n",
        "cv2.ellipse(img, ((190,340), (130,80),0), color=(71, 84, 120), thickness=-1)\n",
        "cv2.ellipse(img, ((140,200), (80,75),30), color=(208, 168, 255), thickness=-1)#右手\n",
        "cv2.ellipse(img, ((165,200), (80,75),30), color=(190, 138, 255), thickness=-1)\n",
        "cv2.ellipse(img, ((200,310), (100,80),150), color=(75, 40, 230), thickness=-1)#足\n",
        "cv2.circle(img, (230,220), 100, color=(208, 168, 255), thickness=-1)#胴体\n",
        "cv2.circle(img, (250,240), 90, color=(190, 138, 255), thickness=-1)\n",
        "cv2.circle(img, (230,220), 90, color=(208, 168, 255), thickness=-1)\n",
        "cv2.ellipse(img, ((330,230), (80,75),30), color=(208, 168, 255), thickness=-1)#左手\n",
        "cv2.ellipse(img, ((170,225), (30,10),0), color=(122, 77, 255), thickness=-1)#ほっぺ\n",
        "cv2.ellipse(img, ((260,225), (30,10),0), color=(122, 77, 255), thickness=-1)\n",
        "cv2.ellipse(img, ((190,200), (20,45),0), color=(161, 83, 24), thickness=-1)#目\n",
        "cv2.ellipse(img, ((240,200), (20,45),0), color=(161, 83, 24), thickness=-1)\n",
        "cv2.ellipse(img, ((190,205), (17,22),0), color=(200, 110, 45), thickness=-1)#下ハイライト\n",
        "cv2.ellipse(img, ((240,205), (17,22),0), color=(200, 110, 45), thickness=-1)\n",
        "cv2.ellipse(img, ((190,198), (17,22),0), color=(161, 83, 24), thickness=-1)\n",
        "cv2.ellipse(img, ((240,198), (17,22),0), color=(161, 83, 24), thickness=-1)\n",
        "cv2.ellipse(img, ((190,194), (14,20),0), color=(255, 255, 255), thickness=-1)#上ハイライト\n",
        "cv2.ellipse(img, ((240,194), (14,20),0), color=(255, 255, 255), thickness=-1)\n",
        "cv2.ellipse(img, ((210,220), (10,18),0), color=(95, 59, 255), thickness=-1)#口\n",
        "cv2.ellipse(img, ((211,222), (7,14),0), color=(145, 120, 255), thickness=-1)\n",
        "cv2.ellipse(img, ((305,295), (100,80),210), color=(190, 138, 255), thickness=-1)#足\n",
        "cv2.ellipse(img, ((310,300), (100,80),210), color=(95, 59, 255), thickness=-1)\n",
        "cv2.imwrite('Kirby4.jpg', img)\n",
        "cv2_imshow(img)"
      ],
      "metadata": {
        "id": "LKx4XI9QN62H",
        "outputId": "e40c3c72-2814-4d68-ad50-d1fbe44c0b47",
        "colab": {
          "base_uri": "https://localhost:8080/",
          "height": 417
        }
      },
      "execution_count": null,
      "outputs": [
        {
          "output_type": "display_data",
          "data": {
            "text/plain": [
              "<PIL.Image.Image image mode=RGB size=400x400>"
            ],
            "image/png": "[encoded data removed]"
          },
          "metadata": {}
        }
      ]
    },
    {
      "cell_type": "code",
      "source": [
        "import numpy as np\n",
        "import cv2, sys\n",
        "from google.colab.patches import cv2_imshow\n",
        "\n",
        "img = np.zeros( (400, 400, 3), np.uint8 )\n",
        "img.fill( 255 )\n",
        "cv2.ellipse(img, ((180,340), (200,100),0), color=(93, 106, 140), thickness=-1)\n",
        "cv2.ellipse(img, ((190,340), (130,80),0), color=(71, 84, 120), thickness=-1)\n",
        "cv2.ellipse(img, ((140,210), (80,75),30), color=(208, 168, 255), thickness=-1)#右手\n",
        "cv2.ellipse(img, ((160,210), (80,75),30), color=(190, 138, 255), thickness=-1)\n",
        "cv2.ellipse(img, ((200,310), (100,80),150), color=(75, 40, 230), thickness=-1)#足\n",
        "cv2.circle(img, (230,220), 100, color=(208, 168, 255), thickness=-1)#胴体\n",
        "cv2.circle(img, (250,240), 90, color=(190, 138, 255), thickness=-1)\n",
        "cv2.circle(img, (230,220), 90, color=(208, 168, 255), thickness=-1)\n",
        "cv2.ellipse(img, ((330,240), (80,75),30), color=(208, 168, 255), thickness=-1)#左手\n",
        "cv2.ellipse(img, ((170,225), (30,10),0), color=(122, 77, 255), thickness=-1)#ほっぺ\n",
        "cv2.ellipse(img, ((260,225), (30,10),0), color=(122, 77, 255), thickness=-1)\n",
        "cv2.ellipse(img, ((190,200), (20,45),0), color=(161, 83, 24), thickness=-1)#目\n",
        "cv2.ellipse(img, ((240,200), (20,45),0), color=(161, 83, 24), thickness=-1)\n",
        "cv2.ellipse(img, ((190,205), (17,22),0), color=(200, 110, 45), thickness=-1)#下ハイライト\n",
        "cv2.ellipse(img, ((240,205), (17,22),0), color=(200, 110, 45), thickness=-1)\n",
        "cv2.ellipse(img, ((190,198), (17,22),0), color=(161, 83, 24), thickness=-1)\n",
        "cv2.ellipse(img, ((240,198), (17,22),0), color=(161, 83, 24), thickness=-1)\n",
        "cv2.ellipse(img, ((190,194), (14,20),0), color=(255, 255, 255), thickness=-1)#上ハイライト\n",
        "cv2.ellipse(img, ((240,194), (14,20),0), color=(255, 255, 255), thickness=-1)\n",
        "cv2.ellipse(img, ((210,220), (10,18),0), color=(95, 59, 255), thickness=-1)#口\n",
        "cv2.ellipse(img, ((211,222), (7,14),0), color=(145, 120, 255), thickness=-1)\n",
        "cv2.ellipse(img, ((295,305), (100,80),60), color=(190, 138, 255), thickness=-1)#足\n",
        "cv2.ellipse(img, ((300,310), (100,80),60), color=(95, 59, 255), thickness=-1)\n",
        "cv2.imwrite('Kirby3.jpg', img)\n",
        "cv2_imshow(img)"
      ],
      "metadata": {
        "id": "EvETIGOGQgvD",
        "outputId": "92399ce3-5b3a-4503-9c4c-d39074835553",
        "colab": {
          "base_uri": "https://localhost:8080/",
          "height": 417
        }
      },
      "execution_count": null,
      "outputs": [
        {
          "output_type": "display_data",
          "data": {
            "text/plain": [
              "<PIL.Image.Image image mode=RGB size=400x400>"
            ],
            "image/png": "[encoded data removed]"
          },
          "metadata": {}
        }
      ]
    },
    {
      "cell_type": "code",
      "source": [
        "import numpy as np\n",
        "import cv2, sys\n",
        "from google.colab.patches import cv2_imshow\n",
        "\n",
        "img = np.zeros( (400, 400, 3), np.uint8 )\n",
        "img.fill( 255 )\n",
        "cv2.ellipse(img, ((180,340), (200,100),0), color=(93, 106, 140), thickness=-1)\n",
        "cv2.ellipse(img, ((190,340), (130,80),0), color=(71, 84, 120), thickness=-1)\n",
        "cv2.ellipse(img, ((140,230), (80,75),30), color=(208, 168, 255), thickness=-1)#右手\n",
        "cv2.ellipse(img, ((160,230), (80,75),30), color=(190, 138, 255), thickness=-1)\n",
        "cv2.ellipse(img, ((190,320), (100,80),170), color=(75, 40, 230), thickness=-1)#足\n",
        "cv2.circle(img, (230,230), 100, color=(208, 168, 255), thickness=-1)#胴体\n",
        "cv2.circle(img, (250,250), 90, color=(190, 138, 255), thickness=-1)\n",
        "cv2.circle(img, (230,230), 90, color=(208, 168, 255), thickness=-1)\n",
        "cv2.ellipse(img, ((330,250), (80,75),30), color=(208, 168, 255), thickness=-1)#左手\n",
        "cv2.ellipse(img, ((170,230), (30,10),0), color=(122, 77, 255), thickness=-1)#ほっぺ\n",
        "cv2.ellipse(img, ((260,230), (30,10),0), color=(122, 77, 255), thickness=-1)\n",
        "cv2.ellipse(img, ((190,205), (20,45),0), color=(161, 83, 24), thickness=-1)#目\n",
        "cv2.ellipse(img, ((240,205), (20,45),0), color=(161, 83, 24), thickness=-1)\n",
        "cv2.ellipse(img, ((190,210), (17,22),0), color=(200, 110, 45), thickness=-1)#下ハイライト\n",
        "cv2.ellipse(img, ((240,210), (17,22),0), color=(200, 110, 45), thickness=-1)\n",
        "cv2.ellipse(img, ((190,203), (17,22),0), color=(161, 83, 24), thickness=-1)\n",
        "cv2.ellipse(img, ((240,203), (17,22),0), color=(161, 83, 24), thickness=-1)\n",
        "cv2.ellipse(img, ((190,199), (14,20),0), color=(255, 255, 255), thickness=-1)#上ハイライト\n",
        "cv2.ellipse(img, ((240,199), (14,20),0), color=(255, 255, 255), thickness=-1)\n",
        "cv2.ellipse(img, ((210,225), (10,18),0), color=(95, 59, 255), thickness=-1)#口\n",
        "cv2.ellipse(img, ((211,227), (7,14),0), color=(145, 120, 255), thickness=-1)\n",
        "cv2.ellipse(img, ((285,315), (100,80),20), color=(190, 138, 255), thickness=-1)#足\n",
        "cv2.ellipse(img, ((290,320), (100,80),20), color=(95, 59, 255), thickness=-1)\n",
        "cv2.imwrite('Kirby2.jpg', img)\n",
        "cv2_imshow(img)"
      ],
      "metadata": {
        "id": "GaBFpVjwRUb_",
        "outputId": "8be7e4fd-1ceb-428c-8de2-58a83fe4f3bb",
        "colab": {
          "base_uri": "https://localhost:8080/",
          "height": 417
        }
      },
      "execution_count": null,
      "outputs": [
        {
          "output_type": "display_data",
          "data": {
            "text/plain": [
              "<PIL.Image.Image image mode=RGB size=400x400>"
            ],
            "image/png": "[encoded data removed]"
          },
          "metadata": {}
        }
      ]
    },
    {
      "cell_type": "code",
      "source": [
        "import numpy as np\n",
        "import cv2, sys\n",
        "from google.colab.patches import cv2_imshow\n",
        "\n",
        "img = np.zeros( (400, 400, 3), np.uint8 )\n",
        "img.fill( 255 )\n",
        "cv2.ellipse(img, ((180,340), (200,100),0), color=(93, 106, 140), thickness=-1)\n",
        "cv2.ellipse(img, ((190,340), (130,80),0), color=(71, 84, 120), thickness=-1)\n",
        "cv2.ellipse(img, ((140,260), (80,75),30), color=(208, 168, 255), thickness=-1)#右手\n",
        "cv2.ellipse(img, ((160,260), (80,75),30), color=(190, 138, 255), thickness=-1)\n",
        "cv2.ellipse(img, ((190,320), (100,80),170), color=(75, 40, 230), thickness=-1)#足\n",
        "cv2.circle(img, (230,250), 100, color=(208, 168, 255), thickness=-1)#胴体\n",
        "cv2.circle(img, (250,270), 90, color=(190, 138, 255), thickness=-1)\n",
        "cv2.circle(img, (230,250), 90, color=(208, 168, 255), thickness=-1)\n",
        "cv2.ellipse(img, ((330,260), (80,75),30), color=(208, 168, 255), thickness=-1)#左手\n",
        "cv2.ellipse(img, ((170,250), (30,10),0), color=(122, 77, 255), thickness=-1)#ほっぺ\n",
        "cv2.ellipse(img, ((260,250), (30,10),0), color=(122, 77, 255), thickness=-1)\n",
        "cv2.ellipse(img, ((190,225), (20,45),0), color=(161, 83, 24), thickness=-1)#目\n",
        "cv2.ellipse(img, ((240,225), (20,45),0), color=(161, 83, 24), thickness=-1)\n",
        "cv2.ellipse(img, ((190,230), (17,22),0), color=(200, 110, 45), thickness=-1)#下ハイライト\n",
        "cv2.ellipse(img, ((240,230), (17,22),0), color=(200, 110, 45), thickness=-1)\n",
        "cv2.ellipse(img, ((190,223), (17,22),0), color=(161, 83, 24), thickness=-1)\n",
        "cv2.ellipse(img, ((240,223), (17,22),0), color=(161, 83, 24), thickness=-1)\n",
        "cv2.ellipse(img, ((190,219), (14,20),0), color=(255, 255, 255), thickness=-1)#上ハイライト\n",
        "cv2.ellipse(img, ((240,219), (14,20),0), color=(255, 255, 255), thickness=-1)\n",
        "cv2.ellipse(img, ((210,245), (10,18),0), color=(95, 59, 255), thickness=-1)#口\n",
        "cv2.ellipse(img, ((211,247), (7,14),0), color=(145, 120, 255), thickness=-1)\n",
        "cv2.ellipse(img, ((285,330), (100,80),10), color=(190, 138, 255), thickness=-1)#足\n",
        "cv2.ellipse(img, ((290,335), (100,80),10), color=(95, 59, 255), thickness=-1)\n",
        "cv2.imwrite('Kirby1.jpg', img)\n",
        "cv2_imshow(img)"
      ],
      "metadata": {
        "id": "8rN-z6krTR7v",
        "outputId": "2ceeeb01-436a-42e6-b20f-2bfc141f89a0",
        "colab": {
          "base_uri": "https://localhost:8080/",
          "height": 417
        }
      },
      "execution_count": null,
      "outputs": [
        {
          "output_type": "display_data",
          "data": {
            "text/plain": [
              "<PIL.Image.Image image mode=RGB size=400x400>"
            ],
            "image/png": "[encoded data removed]"
          },
          "metadata": {}
        }
      ]
    }
  ]
}